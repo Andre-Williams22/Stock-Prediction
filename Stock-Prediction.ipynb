{
 "cells": [
  {
   "cell_type": "code",
   "execution_count": 5,
   "metadata": {},
   "outputs": [],
   "source": [
    "import pandas as pd\n",
    "import datetime\n",
    "import pandas_datareader.data as web\n",
    "from pandas import Series, DataFrame"
   ]
  },
  {
   "cell_type": "code",
   "execution_count": 9,
   "metadata": {},
   "outputs": [
    {
     "data": {
      "text/html": [
       "<div>\n",
       "<style scoped>\n",
       "    .dataframe tbody tr th:only-of-type {\n",
       "        vertical-align: middle;\n",
       "    }\n",
       "\n",
       "    .dataframe tbody tr th {\n",
       "        vertical-align: top;\n",
       "    }\n",
       "\n",
       "    .dataframe thead th {\n",
       "        text-align: right;\n",
       "    }\n",
       "</style>\n",
       "<table border=\"1\" class=\"dataframe\">\n",
       "  <thead>\n",
       "    <tr style=\"text-align: right;\">\n",
       "      <th></th>\n",
       "      <th>High</th>\n",
       "      <th>Low</th>\n",
       "      <th>Open</th>\n",
       "      <th>Close</th>\n",
       "      <th>Volume</th>\n",
       "      <th>Adj Close</th>\n",
       "    </tr>\n",
       "    <tr>\n",
       "      <th>Date</th>\n",
       "      <th></th>\n",
       "      <th></th>\n",
       "      <th></th>\n",
       "      <th></th>\n",
       "      <th></th>\n",
       "      <th></th>\n",
       "    </tr>\n",
       "  </thead>\n",
       "  <tbody>\n",
       "    <tr>\n",
       "      <td>2019-01-14</td>\n",
       "      <td>146.570007</td>\n",
       "      <td>141.270004</td>\n",
       "      <td>142.000000</td>\n",
       "      <td>145.389999</td>\n",
       "      <td>20520300</td>\n",
       "      <td>145.389999</td>\n",
       "    </tr>\n",
       "    <tr>\n",
       "      <td>2019-01-15</td>\n",
       "      <td>150.679993</td>\n",
       "      <td>145.990005</td>\n",
       "      <td>146.009995</td>\n",
       "      <td>148.949997</td>\n",
       "      <td>24069000</td>\n",
       "      <td>148.949997</td>\n",
       "    </tr>\n",
       "    <tr>\n",
       "      <td>2019-01-16</td>\n",
       "      <td>149.649994</td>\n",
       "      <td>147.000000</td>\n",
       "      <td>149.000000</td>\n",
       "      <td>147.539993</td>\n",
       "      <td>18025700</td>\n",
       "      <td>147.539993</td>\n",
       "    </tr>\n",
       "    <tr>\n",
       "      <td>2019-01-17</td>\n",
       "      <td>149.000000</td>\n",
       "      <td>146.500000</td>\n",
       "      <td>146.949997</td>\n",
       "      <td>148.300003</td>\n",
       "      <td>15787900</td>\n",
       "      <td>148.300003</td>\n",
       "    </tr>\n",
       "    <tr>\n",
       "      <td>2019-01-18</td>\n",
       "      <td>152.429993</td>\n",
       "      <td>148.550003</td>\n",
       "      <td>149.750000</td>\n",
       "      <td>150.039993</td>\n",
       "      <td>31029600</td>\n",
       "      <td>150.039993</td>\n",
       "    </tr>\n",
       "  </tbody>\n",
       "</table>\n",
       "</div>"
      ],
      "text/plain": [
       "                  High         Low        Open       Close    Volume  \\\n",
       "Date                                                                   \n",
       "2019-01-14  146.570007  141.270004  142.000000  145.389999  20520300   \n",
       "2019-01-15  150.679993  145.990005  146.009995  148.949997  24069000   \n",
       "2019-01-16  149.649994  147.000000  149.000000  147.539993  18025700   \n",
       "2019-01-17  149.000000  146.500000  146.949997  148.300003  15787900   \n",
       "2019-01-18  152.429993  148.550003  149.750000  150.039993  31029600   \n",
       "\n",
       "             Adj Close  \n",
       "Date                    \n",
       "2019-01-14  145.389999  \n",
       "2019-01-15  148.949997  \n",
       "2019-01-16  147.539993  \n",
       "2019-01-17  148.300003  \n",
       "2019-01-18  150.039993  "
      ]
     },
     "execution_count": 9,
     "metadata": {},
     "output_type": "execute_result"
    }
   ],
   "source": [
    "start = datetime.datetime(2015, 1, 1)\n",
    "end = datetime.datetime(2019, 1, 19)\n",
    "\n",
    "df = web.DataReader(\"FB\", \"yahoo\", start, end)\n",
    "df.tail()"
   ]
  },
  {
   "cell_type": "code",
   "execution_count": null,
   "metadata": {},
   "outputs": [],
   "source": []
  }
 ],
 "metadata": {
  "kernelspec": {
   "display_name": "Python 3",
   "language": "python",
   "name": "python3"
  },
  "language_info": {
   "codemirror_mode": {
    "name": "ipython",
    "version": 3
   },
   "file_extension": ".py",
   "mimetype": "text/x-python",
   "name": "python",
   "nbconvert_exporter": "python",
   "pygments_lexer": "ipython3",
   "version": "3.7.4"
  }
 },
 "nbformat": 4,
 "nbformat_minor": 2
}
